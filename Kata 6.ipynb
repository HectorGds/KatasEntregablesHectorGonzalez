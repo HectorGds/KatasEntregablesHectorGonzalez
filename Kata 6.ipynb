{
 "cells": [
  {
   "cell_type": "markdown",
   "metadata": {},
   "source": [
    "## KATA 6  HIGDS\n"
   ]
  },
  {
   "cell_type": "code",
   "execution_count": 2,
   "metadata": {},
   "outputs": [
    {
     "name": "stdout",
     "output_type": "stream",
     "text": [
      "Los planetas del sistema solar son: ['Mercury', 'Venus', 'Earth', 'Mars', 'Jupiter', 'Saturn', 'Uranus', 'Neptune']\n"
     ]
    }
   ],
   "source": [
    "planetas = ['Mercury','Venus','Earth','Mars','Jupiter','Saturn','Uranus','Neptune']\n",
    "print('Los planetas del sistema solar son:',planetas)\n"
   ]
  },
  {
   "cell_type": "code",
   "execution_count": 4,
   "metadata": {},
   "outputs": [
    {
     "name": "stdout",
     "output_type": "stream",
     "text": [
      "Los planetas del sistema solar en realidad son: ['Mercury', 'Venus', 'Earth', 'Mars', 'Jupiter', 'Saturn', 'Uranus', 'Neptune', 'Pluton', 'Pluton']\n",
      "El ultimo planeta es: Pluton\n"
     ]
    }
   ],
   "source": [
    "planetas.append('Pluton')\n",
    "print('Los planetas del sistema solar en realidad son:',planetas)\n",
    "\n",
    "print('El ultimo planeta es:',planetas[-1])"
   ]
  },
  {
   "cell_type": "markdown",
   "metadata": {},
   "source": [
    "## Ejercicio 2\n"
   ]
  },
  {
   "cell_type": "code",
   "execution_count": 2,
   "metadata": {},
   "outputs": [
    {
     "name": "stdout",
     "output_type": "stream",
     "text": [
      "El planeta que escribiste es: Mars\n",
      "Mars Es el planeta numero: 4\n",
      "Los planetas mas cercanos al sol que Mars\n",
      "['Mercury', 'Venus', 'Earth']\n",
      "Los planetas mas lejanos al sol de Mars\n",
      "['Jupiter', 'Saturn', 'Uranus', 'Neptune']\n"
     ]
    }
   ],
   "source": [
    "planetas =['Mercury','Venus','Earth','Mars','Jupiter','Saturn','Uranus','Neptune']\n",
    "\n",
    "Planeta_escrito =input('Ingresa el nombre del planneta comenzando con la primer letra en mayuscula y en ingles')\n",
    "print('El planeta que escribiste es:',Planeta_escrito)\n",
    "\n",
    "planeta_index = planetas.index(Planeta_escrito)\n",
    "print(Planeta_escrito,'Es el planeta numero:', planeta_index +1 )\n",
    "\n",
    "print('Los planetas mas cercanos al sol que '+Planeta_escrito)\n",
    "print(planetas[0:planeta_index])\n",
    "\n",
    "print('Los planetas mas lejanos al sol de '+Planeta_escrito)\n",
    "print(planetas[planeta_index+1:])"
   ]
  }
 ],
 "metadata": {
  "interpreter": {
   "hash": "d616ea4184afbc6d82e3e193c139d1e65c814d01c9cd2c59d4d3424718eaf4d1"
  },
  "kernelspec": {
   "display_name": "Python 3.10.2 64-bit",
   "language": "python",
   "name": "python3"
  },
  "language_info": {
   "codemirror_mode": {
    "name": "ipython",
    "version": 3
   },
   "file_extension": ".py",
   "mimetype": "text/x-python",
   "name": "python",
   "nbconvert_exporter": "python",
   "pygments_lexer": "ipython3",
   "version": "3.10.2"
  },
  "orig_nbformat": 4
 },
 "nbformat": 4,
 "nbformat_minor": 2
}
