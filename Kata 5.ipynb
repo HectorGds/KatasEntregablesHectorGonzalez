{
 "cells": [
  {
   "cell_type": "markdown",
   "metadata": {},
   "source": [
    "## KATA 5 HIGDS"
   ]
  },
  {
   "cell_type": "code",
   "execution_count": 1,
   "metadata": {},
   "outputs": [
    {
     "name": "stdout",
     "output_type": "stream",
     "text": [
      "La distancia de la Tierra a Jupyter es de : 628949330 Km.\n",
      "La distancia de la Tierra a Jupyter es de: 390577534 mi.\n"
     ]
    }
   ],
   "source": [
    "from math import ceil\n",
    "\n",
    "dis_tierra = 149597870  #Km\n",
    "dis_jupyter =778547200 # Km\n",
    "\n",
    "dis_TJ =abs(dis_tierra-dis_jupyter) \n",
    "dis_TJ_millas = abs(dis_TJ*0.621)\n",
    "\n",
    "\n",
    "print('La distancia de la Tierra a Jupyter es de : '+ str(dis_TJ)+' Km.')\n",
    "print('La distancia de la Tierra a Jupyter es de: '+str(ceil(dis_TJ_millas)),'mi.')"
   ]
  },
  {
   "cell_type": "markdown",
   "metadata": {},
   "source": [
    "## EJERCICIO 2 \n"
   ]
  },
  {
   "cell_type": "code",
   "execution_count": 3,
   "metadata": {},
   "outputs": [
    {
     "name": "stdout",
     "output_type": "stream",
     "text": [
      "La distancia del primer planeta al segundo planeta es de: 15489733763290008980 Km\n",
      "La distancia en millas es de aproximadamente: 9.619124667003095e+18 mi\n"
     ]
    }
   ],
   "source": [
    "primer_planeta = input('Introduzca la distancia del sol para el primer planeta en Km')\n",
    "segundo_planeta =input('Introduzca la distancia del sol para el seundo planeta en Km')\n",
    "\n",
    "primer_planeta = int(primer_planeta)\n",
    "segundo_planeta =int(segundo_planeta)\n",
    "\n",
    "distanciaKm = abs(primer_planeta-segundo_planeta)\n",
    "distanciaMi = abs(distanciaKm*0.621)\n",
    "\n",
    "print('La distancia del primer planeta al segundo planeta es de:',str(distanciaKm),'Km')\n",
    "print('La distancia en millas es de aproximadamente:',str(distanciaMi),'mi')\n"
   ]
  }
 ],
 "metadata": {
  "interpreter": {
   "hash": "d616ea4184afbc6d82e3e193c139d1e65c814d01c9cd2c59d4d3424718eaf4d1"
  },
  "kernelspec": {
   "display_name": "Python 3.10.2 64-bit",
   "language": "python",
   "name": "python3"
  },
  "language_info": {
   "codemirror_mode": {
    "name": "ipython",
    "version": 3
   },
   "file_extension": ".py",
   "mimetype": "text/x-python",
   "name": "python",
   "nbconvert_exporter": "python",
   "pygments_lexer": "ipython3",
   "version": "3.10.2"
  },
  "orig_nbformat": 4
 },
 "nbformat": 4,
 "nbformat_minor": 2
}
