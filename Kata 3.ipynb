{
 "cells": [
  {
   "cell_type": "markdown",
   "metadata": {},
   "source": [
    "## KATA 3 \n",
    "\n",
    "escribir una lógica condicional que imprima una advertencia si un asteroide se acerca a la Tierra demasiado rápido. La velocidad del asteroide varía dependiendo de lo cerca que esté del sol, y cualquier velocidad superior a 25 Kilómetros por segundo (Km/s) merece una advertencia. \n",
    "\n",
    "un asteroide se acerca, y viaja a una velocidad de 49 Km/s"
   ]
  },
  {
   "cell_type": "code",
   "execution_count": 22,
   "metadata": {},
   "outputs": [
    {
     "name": "stdout",
     "output_type": "stream",
     "text": [
      "un asteroide se acerca, a una velocidad de:49 Km/s\n"
     ]
    }
   ],
   "source": [
    "a = 25\n",
    "Vel_asteroide = 49\n",
    "if Vel_asteroide > a:\n",
    "    print('un asteroide se acerca, a una velocidad de:' + str(Vel_asteroide)+ ' Km/s')\n",
    "else:\n",
    "    print('Todo en orden')"
   ]
  },
  {
   "cell_type": "code",
   "execution_count": 23,
   "metadata": {},
   "outputs": [
    {
     "name": "stdout",
     "output_type": "stream",
     "text": [
      "No hay novedad\n"
     ]
    }
   ],
   "source": [
    "a = 20\n",
    "Vel_asteroide = 19\n",
    "if a < Vel_asteroide:\n",
    "    print('Salgan a buscar un asteoride en el cielo')\n",
    "elif a == Vel_asteroide:\n",
    "    print('Salgan a buscar un asteoride en el cielo')\n",
    "else:\n",
    "    print('No hay novedad')"
   ]
  },
  {
   "cell_type": "code",
   "execution_count": 29,
   "metadata": {},
   "outputs": [
    {
     "name": "stdout",
     "output_type": "stream",
     "text": [
      "Miren un asteoirde en el cielo\n"
     ]
    }
   ],
   "source": [
    "Vel_asteroide = 25\n",
    "tamano_asteroide = 40\n",
    "if Vel_asteroide > 25 and tamano_asteroide > 25:\n",
    "    print('Se acerca un asteroide a una velocidad de:'+ str(Vel_asteroide)+' Km/s')\n",
    "elif Vel_asteroide >=20:\n",
    "    print('Miren un asteoirde en el cielo')\n",
    "elif tamano_asteroide < 25:\n",
    "    print('No hay novedad')\n",
    "else:\n",
    "    print('No hay novedad')\n"
   ]
  }
 ],
 "metadata": {
  "interpreter": {
   "hash": "d616ea4184afbc6d82e3e193c139d1e65c814d01c9cd2c59d4d3424718eaf4d1"
  },
  "kernelspec": {
   "display_name": "Python 3.10.2 64-bit",
   "language": "python",
   "name": "python3"
  },
  "language_info": {
   "codemirror_mode": {
    "name": "ipython",
    "version": 3
   },
   "file_extension": ".py",
   "mimetype": "text/x-python",
   "name": "python",
   "nbconvert_exporter": "python",
   "pygments_lexer": "ipython3",
   "version": "3.10.2"
  },
  "orig_nbformat": 4
 },
 "nbformat": 4,
 "nbformat_minor": 2
}
