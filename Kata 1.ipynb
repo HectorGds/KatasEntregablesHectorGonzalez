{
 "cells": [
  {
   "cell_type": "markdown",
   "metadata": {},
   "source": [
    "## kata 1\n",
    "\n",
    "Construir un código que nos de la fecha del dia de hoy "
   ]
  },
  {
   "cell_type": "code",
   "execution_count": null,
   "metadata": {},
   "outputs": [],
   "source": [
    "from datetime import date \n",
    "date.today()\n",
    "\n",
    "print ('El dia de hoy es:', str(date.today()))"
   ]
  },
  {
   "cell_type": "markdown",
   "metadata": {},
   "source": [
    "## Conversion de datos\n",
    "pequeño codigo para convertir datos "
   ]
  },
  {
   "cell_type": "code",
   "execution_count": null,
   "metadata": {},
   "outputs": [],
   "source": [
    "parsec = 11\n",
    "años_luz = 3.26156* parsec \n",
    "\n",
    "print(str(parsec) + 'parsec, is: '+ str(años_luz)+'añoz luz ')"
   ]
  }
 ],
 "metadata": {
  "interpreter": {
   "hash": "d616ea4184afbc6d82e3e193c139d1e65c814d01c9cd2c59d4d3424718eaf4d1"
  },
  "kernelspec": {
   "display_name": "Python 3.10.2 64-bit",
   "language": "python",
   "name": "python3"
  },
  "language_info": {
   "codemirror_mode": {
    "name": "ipython",
    "version": 3
   },
   "file_extension": ".py",
   "mimetype": "text/x-python",
   "name": "python",
   "nbconvert_exporter": "python",
   "pygments_lexer": "ipython3",
   "version": "3.10.2"
  },
  "orig_nbformat": 4
 },
 "nbformat": 4,
 "nbformat_minor": 2
}
